{
 "cells": [
  {
   "cell_type": "markdown",
   "metadata": {},
   "source": [
    "# Skull Stripping & MRI Image Shrinking #"
   ]
  },
  {
   "cell_type": "code",
   "execution_count": 117,
   "metadata": {
    "collapsed": true
   },
   "outputs": [],
   "source": [
    "import numpy as np\n",
    "import os\n",
    "import pathlib\n",
    "import warnings\n",
    "from nilearn import image\n",
    "from nilearn import plotting\n",
    "warnings.filterwarnings(\"ignore\")\n",
    "import matplotlib.pyplot as plt\n",
    "import matplotlib.cm as cm\n",
    "import fnmatch"
   ]
  },
  {
   "cell_type": "markdown",
   "metadata": {},
   "source": [
    "## Stripping MRI Images\n",
    "#### Here we extract stripped MRI images using grey matter, white matter, Cerebrospinal fluid (CSF)"
   ]
  },
  {
   "cell_type": "code",
   "execution_count": 118,
   "metadata": {
    "collapsed": true
   },
   "outputs": [],
   "source": [
    "def brainextr(name, name_c1, name_c2, name_c3):\n",
    "\n",
    "    img = image.load_img(name).get_data()[:,:,:]\n",
    "    img_b = (image.load_img(name_c1).get_data()[:,:,:] + \n",
    "             image.load_img(name_c2).get_data()[:,:,:] + \n",
    "             image.load_img(name_c3).get_data()[:,:,:] )\n",
    "            \n",
    "    img_ind = img_b > 0.01\n",
    "    imgf = img * img_ind\n",
    "    imgf = ShrinkImg(imgf)\n",
    "    \n",
    "    \n",
    "    return imgf"
   ]
  },
  {
   "cell_type": "markdown",
   "metadata": {},
   "source": [
    "## Shrinking MRI Images\n",
    "#### Here we remove planes in the 3D image that do not contain any tissue "
   ]
  },
  {
   "cell_type": "code",
   "execution_count": 119,
   "metadata": {
    "collapsed": true
   },
   "outputs": [],
   "source": [
    "def ShrinkImg(Img):\n",
    "\n",
    "    Imgx = np.sum(Img, axis=1)\n",
    "    Imgx = np.sum(Imgx, axis=1)\n",
    "    x = np.nonzero(Imgx)\n",
    "\n",
    "    minx = x[0][0]\n",
    "    maxx = x[0][-1]\n",
    "\n",
    "    Imgy = np.sum(Img, axis=0)\n",
    "    Imgy = np.sum(Imgy, axis=1)\n",
    "    y = np.nonzero(Imgy)\n",
    "\n",
    "    miny = y[0][0]\n",
    "    maxy = y[0][-1]\n",
    "\n",
    "    Imgz = np.sum(Img, axis=0)\n",
    "    Imgz = np.sum(Imgz, axis=0)\n",
    "    z = np.nonzero(Imgz)\n",
    "\n",
    "    minz = z[0][0]\n",
    "    maxz = z[0][-1]\n",
    "\n",
    "    Imgf = Img[minx : maxx + 1, miny : maxy + 1, minz : maxz + 1]\n",
    "\n",
    "    maxdx = maxx - minx + 1\n",
    "    maxdy = maxy - miny + 1\n",
    "    maxdz = maxz - minz + 1\n",
    "    \n",
    "    return Imgf, maxdx, maxdy, maxdz"
   ]
  },
  {
   "cell_type": "markdown",
   "metadata": {},
   "source": [
    "## Extracting ID of MRI Images\n",
    "#### Here we gather the ID of MRI images into a set called set_imageData"
   ]
  },
  {
   "cell_type": "code",
   "execution_count": 120,
   "metadata": {
    "collapsed": true
   },
   "outputs": [],
   "source": [
    "rootPath = './All_Stripped/'                                  # directory for stripped MRI images \n",
    "pattern = '*.nii'\n",
    "                                     \n",
    "dataFiles = []\n",
    "set_imageData = set()\n",
    "\n",
    "for root, dirs, files in os.walk(rootPath):\n",
    "    for filename in fnmatch.filter(files, pattern):\n",
    "        dataFiles = (os.path.join(root, filename)) \n",
    "        k = str((dataFiles.split(\"ADNI_\"))[1]  )               # subject_ID\n",
    "        k = (k.split(\"_MR_\"))\n",
    "        key = k[0]\n",
    "        set_imageData.update([key])"
   ]
  },
  {
   "cell_type": "markdown",
   "metadata": {},
   "source": [
    "#### Here we extract the corresponding grey matter, white matter, Cerebrospinal fluid (CSF) data for each MRI image ID and pass them to brainextr function"
   ]
  },
  {
   "cell_type": "code",
   "execution_count": 127,
   "metadata": {},
   "outputs": [
    {
     "name": "stdout",
     "output_type": "stream",
     "text": [
      "image ID:  009_S_1334 , image size: (179, 189, 120) , [max_x, max_y, max_z] =  179 189 120\n",
      "image ID:  009_S_1199 , image size: (167, 188, 126) , [max_x, max_y, max_z] =  179 189 126\n",
      "image ID:  009_S_1354 , image size: (148, 180, 109) , [max_x, max_y, max_z] =  179 189 126\n"
     ]
    }
   ],
   "source": [
    "mypath = './All_Stripped/'\n",
    "counter = 0\n",
    "dict_c1 = dict()\n",
    "dict_c2 = dict()\n",
    "dict_c3 = dict()\n",
    "dict_img = dict()\n",
    "for key in set_imageData:\n",
    "    pattern = str(key)\n",
    "    if not os.path.isfile('./numpyArrays/' + pattern + '.npy'):\n",
    "        for file in os.listdir(mypath):\n",
    "            if fnmatch.fnmatch(file, \"c1\" + \"*\" + pattern + \"*\"):\n",
    "                dict_c1[pattern] = file\n",
    "            elif fnmatch.fnmatch(file, \"c2\" + \"*\" + pattern + \"*\"):\n",
    "                dict_c2[pattern] = file\n",
    "            elif fnmatch.fnmatch(file, \"c3\" + \"*\" + pattern + \"*\"):\n",
    "                dict_c3[pattern] = file\n",
    "            elif fnmatch.fnmatch(file, \"*\" + pattern + \"*\"):\n",
    "                dict_img[pattern] = file\n",
    "        \n",
    "max_x = max_y = max_z = 0\n",
    "\n",
    "for img_ID in set_imageData:\n",
    "    pattern = str(img_ID)\n",
    "    if not os.path.isfile('./numpyArrays/' + pattern + '.npy'):\n",
    "        name = os.path.join(root, str(dict_img[pattern]))\n",
    "        name_c1 = os.path.join(root, str(dict_c1[pattern]))\n",
    "        name_c2 = os.path.join(root, str(dict_c2[pattern]))\n",
    "        name_c3 = os.path.join(root, str(dict_c3[pattern]))\n",
    "        imgf, maxx, maxy, maxz = brainextr(name, name_c1, name_c2, name_c3 )\n",
    "        np.save('./numpyArrays/' + pattern + '.npy', imgf)\n",
    "        if(maxx > max_x):\n",
    "            max_x = maxx\n",
    "        if(maxy > max_y):\n",
    "            max_y = maxy\n",
    "        if(maxz > max_z):\n",
    "            max_z = maxz\n",
    "\n",
    "        print('image ID: ', pattern, ', image size:', imgf.shape, ', [max_x, max_y, max_z] = ', max_x, max_y, max_z)\n",
    "\n",
    "    f = open('./numpyArrays/'  + \"maxANDmin.txt\", \"a\");\n",
    "    f.write(\"[max_x, max_y, max_z] = \" + str(max_x) + \", \" + str(max_y) + \", \" + str(max_z) + '\\n')\n",
    "    f.close()\n"
   ]
  },
  {
   "cell_type": "code",
   "execution_count": null,
   "metadata": {
    "collapsed": true
   },
   "outputs": [],
   "source": []
  }
 ],
 "metadata": {
  "kernelspec": {
   "display_name": "Python 3",
   "language": "python",
   "name": "python3"
  },
  "language_info": {
   "codemirror_mode": {
    "name": "ipython",
    "version": 3
   },
   "file_extension": ".py",
   "mimetype": "text/x-python",
   "name": "python",
   "nbconvert_exporter": "python",
   "pygments_lexer": "ipython3",
   "version": "3.6.2"
  }
 },
 "nbformat": 4,
 "nbformat_minor": 2
}
